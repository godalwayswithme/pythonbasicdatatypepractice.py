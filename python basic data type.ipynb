{
 "cells": [
  {
   "cell_type": "code",
   "execution_count": 1,
   "id": "ea307fa9-8776-4d3f-ac33-a3a3be39dba6",
   "metadata": {},
   "outputs": [],
   "source": [
    "l = []"
   ]
  },
  {
   "cell_type": "code",
   "execution_count": 2,
   "id": "f915735e-cf62-4a16-b8ac-48a43110c79e",
   "metadata": {},
   "outputs": [
    {
     "data": {
      "text/plain": [
       "list"
      ]
     },
     "execution_count": 2,
     "metadata": {},
     "output_type": "execute_result"
    }
   ],
   "source": [
    "type(l)"
   ]
  },
  {
   "cell_type": "code",
   "execution_count": 7,
   "id": "dd7717f8-9ac0-4b45-aaef-8345f4e22ff8",
   "metadata": {},
   "outputs": [],
   "source": [
    "l1 = [1,2,3,4,5, \"poonam\" , \"saini\" ,4+5j , 324.453, True,[3,4,5,6]]"
   ]
  },
  {
   "cell_type": "code",
   "execution_count": 8,
   "id": "e773f974-6124-4a9d-8431-74edd28fa44a",
   "metadata": {},
   "outputs": [
    {
     "data": {
      "text/plain": [
       "[1, 2, 3, 4, 5, 'poonam', 'saini', (4+5j), 324.453, True, [3, 4, 5, 6]]"
      ]
     },
     "execution_count": 8,
     "metadata": {},
     "output_type": "execute_result"
    }
   ],
   "source": [
    "l1"
   ]
  },
  {
   "cell_type": "code",
   "execution_count": 9,
   "id": "ecec2d2c-e580-4d90-8d27-9108bdafd99e",
   "metadata": {},
   "outputs": [],
   "source": [
    "s= 'fsfd3243&6^66^^^^'"
   ]
  },
  {
   "cell_type": "code",
   "execution_count": 10,
   "id": "d930ad96-19d5-483a-8ed0-f14cf5bbf27c",
   "metadata": {},
   "outputs": [
    {
     "data": {
      "text/plain": [
       "list"
      ]
     },
     "execution_count": 10,
     "metadata": {},
     "output_type": "execute_result"
    }
   ],
   "source": [
    "type(l1)"
   ]
  },
  {
   "cell_type": "code",
   "execution_count": null,
   "id": "4df06a2c-3bbc-4619-9d25-599ef626d59d",
   "metadata": {},
   "outputs": [],
   "source": [
    "l1 =[1,2,3,4,5, \"poonam\" ,  \"saini\" ,4+5j , 324.453 , True,[3,4,5,6,]]"
   ]
  },
  {
   "cell_type": "code",
   "execution_count": 11,
   "id": "09f5548d-3a68-4413-a155-755671ef04da",
   "metadata": {},
   "outputs": [
    {
     "data": {
      "text/plain": [
       "'poonam'"
      ]
     },
     "execution_count": 11,
     "metadata": {},
     "output_type": "execute_result"
    }
   ],
   "source": [
    "l1[5]"
   ]
  },
  {
   "cell_type": "code",
   "execution_count": 12,
   "id": "027f4941-72da-46be-83c2-ee7228221fb9",
   "metadata": {},
   "outputs": [
    {
     "data": {
      "text/plain": [
       "[3, 4, 5, 6]"
      ]
     },
     "execution_count": 12,
     "metadata": {},
     "output_type": "execute_result"
    }
   ],
   "source": [
    "l1[-1]"
   ]
  },
  {
   "cell_type": "code",
   "execution_count": 13,
   "id": "0dab637b-e04b-44b1-a08a-924a6f31ba84",
   "metadata": {},
   "outputs": [
    {
     "data": {
      "text/plain": [
       "True"
      ]
     },
     "execution_count": 13,
     "metadata": {},
     "output_type": "execute_result"
    }
   ],
   "source": [
    "l1[9]"
   ]
  },
  {
   "cell_type": "code",
   "execution_count": 14,
   "id": "0943bee7-32eb-4c20-a074-58725a09e243",
   "metadata": {},
   "outputs": [
    {
     "data": {
      "text/plain": [
       "6"
      ]
     },
     "execution_count": 14,
     "metadata": {},
     "output_type": "execute_result"
    }
   ],
   "source": [
    "l1[-1][3]"
   ]
  },
  {
   "cell_type": "code",
   "execution_count": 15,
   "id": "752493bc-fd92-405a-9826-d132c92750b2",
   "metadata": {},
   "outputs": [
    {
     "data": {
      "text/plain": [
       "[1, 2, 3, 4, 5, 'poonam', 'saini', (4+5j), 324.453, True, [3, 4, 5, 6]]"
      ]
     },
     "execution_count": 15,
     "metadata": {},
     "output_type": "execute_result"
    }
   ],
   "source": [
    "l1"
   ]
  },
  {
   "cell_type": "code",
   "execution_count": 16,
   "id": "dfaad12a-54e1-466d-b428-27138a1bca93",
   "metadata": {},
   "outputs": [
    {
     "data": {
      "text/plain": [
       "[1, 2, 3, 4, 5]"
      ]
     },
     "execution_count": 16,
     "metadata": {},
     "output_type": "execute_result"
    }
   ],
   "source": [
    "l1[0:5]"
   ]
  },
  {
   "cell_type": "code",
   "execution_count": 17,
   "id": "8a7004c1-40d8-45ae-99db-4e110026595b",
   "metadata": {},
   "outputs": [],
   "source": [
    "l2 = [3,4,5, \"pwakills\", \"poonam\"]"
   ]
  },
  {
   "cell_type": "code",
   "execution_count": 18,
   "id": "0e08197f-c8de-463d-9286-204f9b802557",
   "metadata": {},
   "outputs": [
    {
     "data": {
      "text/plain": [
       "[1,\n",
       " 2,\n",
       " 3,\n",
       " 4,\n",
       " 5,\n",
       " 'poonam',\n",
       " 'saini',\n",
       " (4+5j),\n",
       " 324.453,\n",
       " True,\n",
       " [3, 4, 5, 6],\n",
       " 3,\n",
       " 4,\n",
       " 5,\n",
       " 'pwakills',\n",
       " 'poonam']"
      ]
     },
     "execution_count": 18,
     "metadata": {},
     "output_type": "execute_result"
    }
   ],
   "source": [
    "l1+l2"
   ]
  },
  {
   "cell_type": "code",
   "execution_count": 19,
   "id": "80f41d67-c3b5-4701-bb50-91fb975a84ce",
   "metadata": {},
   "outputs": [
    {
     "data": {
      "text/plain": [
       "['p', 'o', 'o', 'n', 'a', 'm']"
      ]
     },
     "execution_count": 19,
     "metadata": {},
     "output_type": "execute_result"
    }
   ],
   "source": [
    "list(\"poonam\")"
   ]
  },
  {
   "cell_type": "code",
   "execution_count": 22,
   "id": "95c9c4f4-826d-444f-ad0a-6750b9ef109a",
   "metadata": {},
   "outputs": [
    {
     "data": {
      "text/plain": [
       "[3, 4, 5, 'pwakills', 'poonam']"
      ]
     },
     "execution_count": 22,
     "metadata": {},
     "output_type": "execute_result"
    }
   ],
   "source": [
    "l2"
   ]
  },
  {
   "cell_type": "code",
   "execution_count": 21,
   "id": "ae416b24-d635-4890-b52c-9523600e823c",
   "metadata": {},
   "outputs": [
    {
     "data": {
      "text/plain": [
       "[3, 4, 5, 'pwakills', 'poonam', 3, 4, 5, 'pwakills', 'poonam']"
      ]
     },
     "execution_count": 21,
     "metadata": {},
     "output_type": "execute_result"
    }
   ],
   "source": [
    "l2*2"
   ]
  },
  {
   "cell_type": "code",
   "execution_count": 23,
   "id": "c193ab66-4403-4e29-b82c-be8d4ad66950",
   "metadata": {},
   "outputs": [],
   "source": [
    "l2[0] = 400"
   ]
  },
  {
   "cell_type": "code",
   "execution_count": 24,
   "id": "eea42b93-76b5-4324-9dc7-dde079523137",
   "metadata": {},
   "outputs": [
    {
     "data": {
      "text/plain": [
       "[400, 4, 5, 'pwakills', 'poonam']"
      ]
     },
     "execution_count": 24,
     "metadata": {},
     "output_type": "execute_result"
    }
   ],
   "source": [
    "l2"
   ]
  },
  {
   "cell_type": "code",
   "execution_count": 1,
   "id": "9528eebc-6d9f-4177-937b-c9cee068c6d6",
   "metadata": {},
   "outputs": [],
   "source": [
    "t = (1,2,3,4,\"poonam\" , \"pwskills\" , 3+4j , True)"
   ]
  },
  {
   "cell_type": "code",
   "execution_count": 2,
   "id": "372a727a-e904-4347-85c3-a3378852f3f3",
   "metadata": {},
   "outputs": [
    {
     "data": {
      "text/plain": [
       "tuple"
      ]
     },
     "execution_count": 2,
     "metadata": {},
     "output_type": "execute_result"
    }
   ],
   "source": [
    "type(t)"
   ]
  },
  {
   "cell_type": "code",
   "execution_count": 3,
   "id": "6d950bdb-da62-4cbb-a82a-02a9d9e4e05e",
   "metadata": {},
   "outputs": [
    {
     "data": {
      "text/plain": [
       "1"
      ]
     },
     "execution_count": 3,
     "metadata": {},
     "output_type": "execute_result"
    }
   ],
   "source": [
    "t[0]"
   ]
  },
  {
   "cell_type": "code",
   "execution_count": 4,
   "id": "950e3004-86f2-4b48-aaf2-afb1b1cc4a76",
   "metadata": {},
   "outputs": [
    {
     "data": {
      "text/plain": [
       "True"
      ]
     },
     "execution_count": 4,
     "metadata": {},
     "output_type": "execute_result"
    }
   ],
   "source": [
    "t[-1]"
   ]
  },
  {
   "cell_type": "code",
   "execution_count": 5,
   "id": "6903c441-8a54-4843-ad33-59c9f88bc4d9",
   "metadata": {},
   "outputs": [
    {
     "data": {
      "text/plain": [
       "(True, (3+4j), 'pwskills', 'poonam', 4, 3, 2, 1)"
      ]
     },
     "execution_count": 5,
     "metadata": {},
     "output_type": "execute_result"
    }
   ],
   "source": [
    "t[::-1]"
   ]
  },
  {
   "cell_type": "code",
   "execution_count": 6,
   "id": "0396a54f-cb90-4dc8-b1c0-305cd7ed6e93",
   "metadata": {},
   "outputs": [
    {
     "data": {
      "text/plain": [
       "(1, 2, 3, 4, 'poonam', 'pwskills', (3+4j), True)"
      ]
     },
     "execution_count": 6,
     "metadata": {},
     "output_type": "execute_result"
    }
   ],
   "source": [
    "t"
   ]
  },
  {
   "cell_type": "code",
   "execution_count": 8,
   "id": "d643d54f-c58f-455a-b7a0-31979a5f4b10",
   "metadata": {},
   "outputs": [],
   "source": [
    "t1 = (5,6,7,8,9)"
   ]
  },
  {
   "cell_type": "code",
   "execution_count": 9,
   "id": "65f76ce5-0c6d-418e-80dd-bace201e1b3a",
   "metadata": {},
   "outputs": [
    {
     "data": {
      "text/plain": [
       "(5, 6, 7, 8, 9)"
      ]
     },
     "execution_count": 9,
     "metadata": {},
     "output_type": "execute_result"
    }
   ],
   "source": [
    "t1"
   ]
  },
  {
   "cell_type": "code",
   "execution_count": 10,
   "id": "e1bf6a8b-c63f-40cb-82ac-d2e5c902bf2a",
   "metadata": {},
   "outputs": [
    {
     "data": {
      "text/plain": [
       "(1, 2, 3, 4, 'poonam', 'pwskills', (3+4j), True, 5, 6, 7, 8, 9)"
      ]
     },
     "execution_count": 10,
     "metadata": {},
     "output_type": "execute_result"
    }
   ],
   "source": [
    "t+t1"
   ]
  },
  {
   "cell_type": "code",
   "execution_count": 11,
   "id": "207d5b79-02c3-4870-b19e-c52c838f963b",
   "metadata": {},
   "outputs": [
    {
     "data": {
      "text/plain": [
       "(1,\n",
       " 2,\n",
       " 3,\n",
       " 4,\n",
       " 'poonam',\n",
       " 'pwskills',\n",
       " (3+4j),\n",
       " True,\n",
       " 1,\n",
       " 2,\n",
       " 3,\n",
       " 4,\n",
       " 'poonam',\n",
       " 'pwskills',\n",
       " (3+4j),\n",
       " True)"
      ]
     },
     "execution_count": 11,
     "metadata": {},
     "output_type": "execute_result"
    }
   ],
   "source": [
    "t*2"
   ]
  },
  {
   "cell_type": "code",
   "execution_count": 12,
   "id": "5b4feca6-4337-4d28-9ea6-b7238d2ad781",
   "metadata": {},
   "outputs": [
    {
     "data": {
      "text/plain": [
       "(1, 2, 3, 4, 'poonam', 'pwskills', (3+4j), True)"
      ]
     },
     "execution_count": 12,
     "metadata": {},
     "output_type": "execute_result"
    }
   ],
   "source": [
    "t"
   ]
  },
  {
   "cell_type": "code",
   "execution_count": 13,
   "id": "44258c33-cdad-4a8a-a866-5c2501435952",
   "metadata": {},
   "outputs": [
    {
     "data": {
      "text/plain": [
       "[1, 2, 3, 4, 'poonam', 'pwskills', (3+4j), True]"
      ]
     },
     "execution_count": 13,
     "metadata": {},
     "output_type": "execute_result"
    }
   ],
   "source": [
    "list(t)"
   ]
  },
  {
   "cell_type": "code",
   "execution_count": 16,
   "id": "ab04d5d1-5917-4776-af23-1efbd9e8fe07",
   "metadata": {},
   "outputs": [],
   "source": [
    "l2 = [300, 4, 6, 'pwskills', 'poonam']"
   ]
  },
  {
   "cell_type": "code",
   "execution_count": 17,
   "id": "bb4cd731-5ef2-4095-bf66-8bc02d3e43b7",
   "metadata": {},
   "outputs": [
    {
     "data": {
      "text/plain": [
       "[300, 4, 6, 'pwskills', 'poonam']"
      ]
     },
     "execution_count": 17,
     "metadata": {},
     "output_type": "execute_result"
    }
   ],
   "source": [
    "l2"
   ]
  },
  {
   "cell_type": "code",
   "execution_count": 18,
   "id": "47047059-e07c-4ae2-ac9f-cd34e4b076c5",
   "metadata": {},
   "outputs": [
    {
     "data": {
      "text/plain": [
       "(300, 4, 6, 'pwskills', 'poonam')"
      ]
     },
     "execution_count": 18,
     "metadata": {},
     "output_type": "execute_result"
    }
   ],
   "source": [
    "tuple(l2)"
   ]
  },
  {
   "cell_type": "code",
   "execution_count": 19,
   "id": "17c79863-30b4-451d-ad19-2b649a63c3aa",
   "metadata": {},
   "outputs": [
    {
     "data": {
      "text/plain": [
       "8"
      ]
     },
     "execution_count": 19,
     "metadata": {},
     "output_type": "execute_result"
    }
   ],
   "source": [
    "len(t)"
   ]
  },
  {
   "cell_type": "code",
   "execution_count": 20,
   "id": "99feb337-f9bc-459d-a8b3-7cc52604873e",
   "metadata": {},
   "outputs": [
    {
     "data": {
      "text/plain": [
       "10"
      ]
     },
     "execution_count": 20,
     "metadata": {},
     "output_type": "execute_result"
    }
   ],
   "source": [
    "len(\"poo    nam\")"
   ]
  },
  {
   "cell_type": "code",
   "execution_count": 23,
   "id": "ad32b21f-7898-4e38-841b-e195634c01ec",
   "metadata": {},
   "outputs": [],
   "source": [
    "s = {}"
   ]
  },
  {
   "cell_type": "code",
   "execution_count": 24,
   "id": "fdb4aab1-e516-40b6-995c-d8245b7d0201",
   "metadata": {},
   "outputs": [
    {
     "data": {
      "text/plain": [
       "dict"
      ]
     },
     "execution_count": 24,
     "metadata": {},
     "output_type": "execute_result"
    }
   ],
   "source": [
    "type(s)"
   ]
  },
  {
   "cell_type": "code",
   "execution_count": 26,
   "id": "7705599b-7ebc-4b2b-a7ad-19857a88af41",
   "metadata": {},
   "outputs": [],
   "source": [
    "s = {1,4,6,7,8,8}"
   ]
  },
  {
   "cell_type": "code",
   "execution_count": 30,
   "id": "d20dddae-1a8c-4fe7-b975-62be25def7a5",
   "metadata": {},
   "outputs": [
    {
     "data": {
      "text/plain": [
       "set"
      ]
     },
     "execution_count": 30,
     "metadata": {},
     "output_type": "execute_result"
    }
   ],
   "source": [
    "type(s)"
   ]
  },
  {
   "cell_type": "code",
   "execution_count": 31,
   "id": "ffcd3a83-c287-4463-ab8f-7c62aad4e5d3",
   "metadata": {},
   "outputs": [
    {
     "data": {
      "text/plain": [
       "{1, 4, 6, 7, 8}"
      ]
     },
     "execution_count": 31,
     "metadata": {},
     "output_type": "execute_result"
    }
   ],
   "source": [
    "s"
   ]
  },
  {
   "cell_type": "code",
   "execution_count": 32,
   "id": "8a71fa0c-bdb5-4f4d-847e-d9b49fd23aa1",
   "metadata": {},
   "outputs": [],
   "source": [
    "s2 = {\"poonam\" , \"neha\" , \"poonam\" , 1,2,3,3,4, 5,5, 6,7,8}"
   ]
  },
  {
   "cell_type": "code",
   "execution_count": 34,
   "id": "6cabf56a-3bb9-4270-90f6-20e32ef7d079",
   "metadata": {},
   "outputs": [
    {
     "data": {
      "text/plain": [
       "{1, 2, 3, 4, 5, 6, 7, 8, 'neha', 'poonam'}"
      ]
     },
     "execution_count": 34,
     "metadata": {},
     "output_type": "execute_result"
    }
   ],
   "source": [
    "s2"
   ]
  },
  {
   "cell_type": "code",
   "execution_count": 35,
   "id": "0630c28b-e4dc-48ad-b495-031d5d143229",
   "metadata": {},
   "outputs": [
    {
     "data": {
      "text/plain": [
       "['neha', 2, 3, 4, 1, 5, 6, 7, 8, 'poonam']"
      ]
     },
     "execution_count": 35,
     "metadata": {},
     "output_type": "execute_result"
    }
   ],
   "source": [
    "list(s2)"
   ]
  },
  {
   "cell_type": "code",
   "execution_count": 36,
   "id": "fb032834-3f35-430e-bf70-d811b9feabc9",
   "metadata": {},
   "outputs": [
    {
     "data": {
      "text/plain": [
       "{300, 4, 6, 'poonam', 'pwskills'}"
      ]
     },
     "execution_count": 36,
     "metadata": {},
     "output_type": "execute_result"
    }
   ],
   "source": [
    "set(l2)"
   ]
  },
  {
   "cell_type": "code",
   "execution_count": 38,
   "id": "014d11f4-09ec-48c1-8428-14978d4bad2b",
   "metadata": {},
   "outputs": [
    {
     "data": {
      "text/plain": [
       "('neha', 2, 3, 4, 1, 5, 6, 7, 8, 'poonam')"
      ]
     },
     "execution_count": 38,
     "metadata": {},
     "output_type": "execute_result"
    }
   ],
   "source": [
    "tuple(s2)"
   ]
  },
  {
   "cell_type": "code",
   "execution_count": 39,
   "id": "53d15a90-17ed-4a34-b1c3-2a493a8cf51a",
   "metadata": {},
   "outputs": [
    {
     "data": {
      "text/plain": [
       "{1, 2, 3, 4, 5, 6, 7, 8, 'neha', 'poonam'}"
      ]
     },
     "execution_count": 39,
     "metadata": {},
     "output_type": "execute_result"
    }
   ],
   "source": [
    "s2"
   ]
  },
  {
   "cell_type": "code",
   "execution_count": 41,
   "id": "5288d314-9062-481d-9c5e-ff414545beab",
   "metadata": {},
   "outputs": [],
   "source": [
    "s3 = {234, 56467, 56, 45, 32, 67,\"poonam\",564.34}"
   ]
  },
  {
   "cell_type": "code",
   "execution_count": 42,
   "id": "b7e14be3-0357-4130-ab78-6f244213e520",
   "metadata": {},
   "outputs": [
    {
     "data": {
      "text/plain": [
       "{234, 32, 45, 56, 564.34, 56467, 67, 'poonam'}"
      ]
     },
     "execution_count": 42,
     "metadata": {},
     "output_type": "execute_result"
    }
   ],
   "source": [
    "s3"
   ]
  },
  {
   "cell_type": "code",
   "execution_count": 43,
   "id": "359c3c2c-20f1-46df-8adf-7f0bb2355636",
   "metadata": {},
   "outputs": [],
   "source": [
    "d = {}"
   ]
  },
  {
   "cell_type": "code",
   "execution_count": 44,
   "id": "e1fc7010-cc60-44eb-a381-70d4935384be",
   "metadata": {},
   "outputs": [
    {
     "data": {
      "text/plain": [
       "dict"
      ]
     },
     "execution_count": 44,
     "metadata": {},
     "output_type": "execute_result"
    }
   ],
   "source": [
    "type(d)"
   ]
  },
  {
   "cell_type": "code",
   "execution_count": 45,
   "id": "f6e01470-57d9-4afd-9cdc-7ed583b29775",
   "metadata": {},
   "outputs": [],
   "source": [
    "d1 = {'name' : \"poonam\" , \"subject\" : [\"data science\" , \"big data\" , \"data analytics\"]}"
   ]
  },
  {
   "cell_type": "code",
   "execution_count": 46,
   "id": "6e324d72-bd05-4b6c-a94f-38c0c6c7467a",
   "metadata": {},
   "outputs": [
    {
     "data": {
      "text/plain": [
       "{'name': 'poonam', 'subject': ['data science', 'big data', 'data analytics']}"
      ]
     },
     "execution_count": 46,
     "metadata": {},
     "output_type": "execute_result"
    }
   ],
   "source": [
    "d1"
   ]
  },
  {
   "cell_type": "code",
   "execution_count": 47,
   "id": "d369fe94-254f-41ed-a1a0-89d9aa99a64f",
   "metadata": {},
   "outputs": [],
   "source": [
    "d2 = {\"name\" :\"poonam\" , \"name\" : \"pwskills\" }"
   ]
  },
  {
   "cell_type": "code",
   "execution_count": 48,
   "id": "854281bd-ec66-4c9a-aa35-ad96c2cce1a6",
   "metadata": {},
   "outputs": [
    {
     "data": {
      "text/plain": [
       "{'name': 'pwskills'}"
      ]
     },
     "execution_count": 48,
     "metadata": {},
     "output_type": "execute_result"
    }
   ],
   "source": [
    "d2"
   ]
  },
  {
   "cell_type": "code",
   "execution_count": 49,
   "id": "0ebc1008-964f-4448-bf63-ac1102c5d36a",
   "metadata": {},
   "outputs": [],
   "source": [
    "d3 = {23456 : \"poonam\"}"
   ]
  },
  {
   "cell_type": "code",
   "execution_count": 50,
   "id": "d07c3100-1302-4353-b13f-1da3526dce91",
   "metadata": {},
   "outputs": [],
   "source": [
    "d3 = {(2,32,4,4) : \"poonam\"}"
   ]
  },
  {
   "cell_type": "code",
   "execution_count": 51,
   "id": "77aae454-0890-4896-ba2c-9f949cdd0219",
   "metadata": {},
   "outputs": [],
   "source": [
    "d3 = {\"&$5%fds\" : \"poonam\"}"
   ]
  },
  {
   "cell_type": "code",
   "execution_count": 1,
   "id": "40c020d8-db7d-4cb3-8e8d-a4d18e13531a",
   "metadata": {},
   "outputs": [],
   "source": [
    "d4 = {'course' : ['dsa' , 'java' , 'cloud'] , 'mentor' :('sudh' , 'krish' , 'viswa' , 'sunny') , 'price' :{4500, 4600, 5600, } \n",
    "      , 'duration' :1 , 'access year' : 1 }\n",
    "\n",
    "                                                                                         "
   ]
  },
  {
   "cell_type": "code",
   "execution_count": 2,
   "id": "04b6d688-3f1b-4ba3-a26a-c84c86c66a9e",
   "metadata": {},
   "outputs": [
    {
     "data": {
      "text/plain": [
       "{'course': ['dsa', 'java', 'cloud'],\n",
       " 'mentor': ('sudh', 'krish', 'viswa', 'sunny'),\n",
       " 'price': {4500, 4600, 5600},\n",
       " 'duration': 1,\n",
       " 'access year': 1}"
      ]
     },
     "execution_count": 2,
     "metadata": {},
     "output_type": "execute_result"
    }
   ],
   "source": [
    "d4"
   ]
  },
  {
   "cell_type": "code",
   "execution_count": 3,
   "id": "c0da1bcb-71a5-4197-91fb-813af0540572",
   "metadata": {},
   "outputs": [
    {
     "data": {
      "text/plain": [
       "['dsa', 'java', 'cloud']"
      ]
     },
     "execution_count": 3,
     "metadata": {},
     "output_type": "execute_result"
    }
   ],
   "source": [
    "d4['course']"
   ]
  },
  {
   "cell_type": "code",
   "execution_count": 4,
   "id": "0394bff0-1132-43e6-9a63-c192182e3bfc",
   "metadata": {},
   "outputs": [
    {
     "data": {
      "text/plain": [
       "('sudh', 'krish', 'viswa', 'sunny')"
      ]
     },
     "execution_count": 4,
     "metadata": {},
     "output_type": "execute_result"
    }
   ],
   "source": [
    "d4['mentor']"
   ]
  },
  {
   "cell_type": "code",
   "execution_count": 11,
   "id": "d78bcaa2-3a3e-4b7f-bc83-c92d59c9f1d1",
   "metadata": {},
   "outputs": [
    {
     "data": {
      "text/plain": [
       "{4500, 4600, 5600}"
      ]
     },
     "execution_count": 11,
     "metadata": {},
     "output_type": "execute_result"
    }
   ],
   "source": [
    "d4['price']\n"
   ]
  },
  {
   "cell_type": "code",
   "execution_count": 12,
   "id": "4488a271-641b-4a40-a837-b1b133a44dad",
   "metadata": {},
   "outputs": [],
   "source": [
    "s1 = \"pwskills\""
   ]
  },
  {
   "cell_type": "code",
   "execution_count": 13,
   "id": "ee992128-a91c-4a4b-b89b-e9d0072b10da",
   "metadata": {},
   "outputs": [
    {
     "data": {
      "text/plain": [
       "2"
      ]
     },
     "execution_count": 13,
     "metadata": {},
     "output_type": "execute_result"
    }
   ],
   "source": [
    "s1.count('l')"
   ]
  },
  {
   "cell_type": "code",
   "execution_count": 14,
   "id": "f6150e0f-a7d0-45c0-add2-cecc653a5fdf",
   "metadata": {},
   "outputs": [
    {
     "data": {
      "text/plain": [
       "2"
      ]
     },
     "execution_count": 14,
     "metadata": {},
     "output_type": "execute_result"
    }
   ],
   "source": [
    "s1.find('s')"
   ]
  },
  {
   "cell_type": "code",
   "execution_count": 15,
   "id": "05f09f41-3242-468f-9dd3-4d85539a8260",
   "metadata": {},
   "outputs": [
    {
     "data": {
      "text/plain": [
       "0"
      ]
     },
     "execution_count": 15,
     "metadata": {},
     "output_type": "execute_result"
    }
   ],
   "source": [
    "s1.index('p')"
   ]
  },
  {
   "cell_type": "code",
   "execution_count": 17,
   "id": "bdd9eb70-de92-4e65-ae37-33c0bec81503",
   "metadata": {},
   "outputs": [
    {
     "data": {
      "text/plain": [
       "2"
      ]
     },
     "execution_count": 17,
     "metadata": {},
     "output_type": "execute_result"
    }
   ],
   "source": [
    "s1.index('s')"
   ]
  },
  {
   "cell_type": "code",
   "execution_count": 18,
   "id": "df8e2f86-0ac5-4d30-b027-fda9d0fdeb28",
   "metadata": {},
   "outputs": [
    {
     "data": {
      "text/plain": [
       "-1"
      ]
     },
     "execution_count": 18,
     "metadata": {},
     "output_type": "execute_result"
    }
   ],
   "source": [
    "s1.find('z')"
   ]
  },
  {
   "cell_type": "code",
   "execution_count": 19,
   "id": "61d90259-5cec-4673-978b-7f83874f2d8e",
   "metadata": {},
   "outputs": [
    {
     "data": {
      "text/plain": [
       "'pwskills'"
      ]
     },
     "execution_count": 19,
     "metadata": {},
     "output_type": "execute_result"
    }
   ],
   "source": [
    "s1"
   ]
  },
  {
   "cell_type": "code",
   "execution_count": 20,
   "id": "8f8b994f-ccfb-4794-9183-7ec8a2855684",
   "metadata": {},
   "outputs": [
    {
     "data": {
      "text/plain": [
       "'PWSKILLS'"
      ]
     },
     "execution_count": 20,
     "metadata": {},
     "output_type": "execute_result"
    }
   ],
   "source": [
    "s1.upper()"
   ]
  },
  {
   "cell_type": "code",
   "execution_count": 21,
   "id": "5e80c25e-ceee-4ea0-8734-197918df5b54",
   "metadata": {},
   "outputs": [
    {
     "data": {
      "text/plain": [
       "'pwskills'"
      ]
     },
     "execution_count": 21,
     "metadata": {},
     "output_type": "execute_result"
    }
   ],
   "source": [
    "s1.lower()"
   ]
  },
  {
   "cell_type": "code",
   "execution_count": 22,
   "id": "276797d5-56a8-4c76-bc7b-485e02f3e0af",
   "metadata": {},
   "outputs": [
    {
     "data": {
      "text/plain": [
       "'Pwskills'"
      ]
     },
     "execution_count": 22,
     "metadata": {},
     "output_type": "execute_result"
    }
   ],
   "source": [
    "s1.title()"
   ]
  },
  {
   "cell_type": "code",
   "execution_count": 23,
   "id": "1d29bd93-87c9-4ba8-8294-ebbbc04315e9",
   "metadata": {},
   "outputs": [],
   "source": [
    "s2 = \"my name is poonam saini\""
   ]
  },
  {
   "cell_type": "code",
   "execution_count": 24,
   "id": "0fa32a37-0814-4e27-9ce8-60485326d1d0",
   "metadata": {},
   "outputs": [
    {
     "data": {
      "text/plain": [
       "'My Name Is Poonam Saini'"
      ]
     },
     "execution_count": 24,
     "metadata": {},
     "output_type": "execute_result"
    }
   ],
   "source": [
    "s2.title()"
   ]
  },
  {
   "cell_type": "code",
   "execution_count": 26,
   "id": "f21acdd7-e1d6-4e2a-ba74-ac13bb9e06bc",
   "metadata": {},
   "outputs": [
    {
     "data": {
      "text/plain": [
       "'My Name Is Poonam Saini'"
      ]
     },
     "execution_count": 26,
     "metadata": {},
     "output_type": "execute_result"
    }
   ],
   "source": [
    "s2.title()"
   ]
  },
  {
   "cell_type": "code",
   "execution_count": 27,
   "id": "9bf45812-60e4-48bd-bc6c-7bba367da4d0",
   "metadata": {},
   "outputs": [
    {
     "data": {
      "text/plain": [
       "'my name is poonam saini'"
      ]
     },
     "execution_count": 27,
     "metadata": {},
     "output_type": "execute_result"
    }
   ],
   "source": [
    "s2"
   ]
  },
  {
   "cell_type": "code",
   "execution_count": 29,
   "id": "c46bb3ee-cab9-49a7-90e7-763407f49e6f",
   "metadata": {},
   "outputs": [
    {
     "data": {
      "text/plain": [
       "['my', 'name', 'is', 'poonam', 'saini']"
      ]
     },
     "execution_count": 29,
     "metadata": {},
     "output_type": "execute_result"
    }
   ],
   "source": [
    "s2.split()"
   ]
  },
  {
   "cell_type": "code",
   "execution_count": 30,
   "id": "b1beeaf0-ab29-4278-b874-a06ac60241d7",
   "metadata": {},
   "outputs": [],
   "source": [
    "s3 = \"my name,is,poonam,saini\""
   ]
  },
  {
   "cell_type": "code",
   "execution_count": 31,
   "id": "d8881c43-e4b0-4c30-9ea2-f0f78ddac32b",
   "metadata": {},
   "outputs": [
    {
     "data": {
      "text/plain": [
       "['my', 'name,is,poonam,saini']"
      ]
     },
     "execution_count": 31,
     "metadata": {},
     "output_type": "execute_result"
    }
   ],
   "source": [
    "s3.split()"
   ]
  },
  {
   "cell_type": "code",
   "execution_count": 32,
   "id": "c5b8435e-fa36-4a57-8af2-5e58f4af685c",
   "metadata": {},
   "outputs": [
    {
     "data": {
      "text/plain": [
       "['my name,i', ',poonam,', 'aini']"
      ]
     },
     "execution_count": 32,
     "metadata": {},
     "output_type": "execute_result"
    }
   ],
   "source": [
    "s3.split('s')"
   ]
  },
  {
   "cell_type": "code",
   "execution_count": 33,
   "id": "40f249a4-7fa5-4d57-ab3a-15f7eb2a277f",
   "metadata": {},
   "outputs": [],
   "source": [
    "s4 = \"this is my first class. i am taking now\""
   ]
  },
  {
   "cell_type": "code",
   "execution_count": 34,
   "id": "1007bd8a-6fdb-457e-9dc6-d1cec53d347f",
   "metadata": {},
   "outputs": [
    {
     "data": {
      "text/plain": [
       "['this is my first class', ' i am taking now']"
      ]
     },
     "execution_count": 34,
     "metadata": {},
     "output_type": "execute_result"
    }
   ],
   "source": [
    "s4.split('.')"
   ]
  },
  {
   "cell_type": "code",
   "execution_count": 35,
   "id": "5b842a2c-6171-4704-9f7f-bdea874f7dde",
   "metadata": {},
   "outputs": [
    {
     "data": {
      "text/plain": [
       "' i am taking now'"
      ]
     },
     "execution_count": 35,
     "metadata": {},
     "output_type": "execute_result"
    }
   ],
   "source": [
    "s4.split('.')[1]"
   ]
  },
  {
   "cell_type": "code",
   "execution_count": 36,
   "id": "a1ba0180-b246-4e27-baf5-c6d9f3724454",
   "metadata": {},
   "outputs": [
    {
     "data": {
      "text/plain": [
       "'my name is poonam saini'"
      ]
     },
     "execution_count": 36,
     "metadata": {},
     "output_type": "execute_result"
    }
   ],
   "source": [
    "s2"
   ]
  },
  {
   "cell_type": "code",
   "execution_count": 37,
   "id": "62900c55-1584-4711-a25f-30ef8c0ca84d",
   "metadata": {},
   "outputs": [
    {
     "data": {
      "text/plain": [
       "'my name,is,poonam,saini'"
      ]
     },
     "execution_count": 37,
     "metadata": {},
     "output_type": "execute_result"
    }
   ],
   "source": [
    "s3"
   ]
  },
  {
   "cell_type": "code",
   "execution_count": 38,
   "id": "bb64e7a6-ae64-4b34-939f-36a5875e7267",
   "metadata": {},
   "outputs": [
    {
     "data": {
      "text/plain": [
       "'pwskills'"
      ]
     },
     "execution_count": 38,
     "metadata": {},
     "output_type": "execute_result"
    }
   ],
   "source": [
    "s1"
   ]
  },
  {
   "cell_type": "code",
   "execution_count": 39,
   "id": "194d8889-bdd7-4b01-8d9e-c27f9c8e0743",
   "metadata": {},
   "outputs": [
    {
     "data": {
      "text/plain": [
       "'Pwskills'"
      ]
     },
     "execution_count": 39,
     "metadata": {},
     "output_type": "execute_result"
    }
   ],
   "source": [
    "s1.capitalize()"
   ]
  },
  {
   "cell_type": "code",
   "execution_count": 40,
   "id": "db34c48f-5038-4c9a-9678-ac5c819ff002",
   "metadata": {},
   "outputs": [
    {
     "data": {
      "text/plain": [
       "'My name is poonam saini'"
      ]
     },
     "execution_count": 40,
     "metadata": {},
     "output_type": "execute_result"
    }
   ],
   "source": [
    "s2.capitalize()"
   ]
  },
  {
   "cell_type": "code",
   "execution_count": 41,
   "id": "0bfb2632-01d5-465f-929b-2534db5e2922",
   "metadata": {},
   "outputs": [
    {
     "data": {
      "text/plain": [
       "'My Name Is Poonam Saini'"
      ]
     },
     "execution_count": 41,
     "metadata": {},
     "output_type": "execute_result"
    }
   ],
   "source": [
    "s2.title()"
   ]
  },
  {
   "cell_type": "code",
   "execution_count": 42,
   "id": "856698cf-ae51-40a1-90bd-324f3121c78e",
   "metadata": {},
   "outputs": [
    {
     "data": {
      "text/plain": [
       "'my aame is pooaam saiai'"
      ]
     },
     "execution_count": 42,
     "metadata": {},
     "output_type": "execute_result"
    }
   ],
   "source": [
    "s2.replace('n' , 'a')"
   ]
  },
  {
   "cell_type": "code",
   "execution_count": 43,
   "id": "bd52dad8-3ab1-4037-9b7e-f6fb570aacf2",
   "metadata": {},
   "outputs": [
    {
     "data": {
      "text/plain": [
       "'my name is poonam saini'"
      ]
     },
     "execution_count": 43,
     "metadata": {},
     "output_type": "execute_result"
    }
   ],
   "source": [
    "s2"
   ]
  },
  {
   "cell_type": "code",
   "execution_count": 44,
   "id": "275c6b46-7f3d-4873-91c4-b9ffdd02c7a3",
   "metadata": {},
   "outputs": [
    {
     "data": {
      "text/plain": [
       "'pwskills'"
      ]
     },
     "execution_count": 44,
     "metadata": {},
     "output_type": "execute_result"
    }
   ],
   "source": [
    "s1"
   ]
  },
  {
   "cell_type": "code",
   "execution_count": 46,
   "id": "a5510f63-e6ec-476a-ab5f-23e9c9ec0cc6",
   "metadata": {},
   "outputs": [
    {
     "data": {
      "text/plain": [
       "'tttttttttttpwskillsttttttttttt'"
      ]
     },
     "execution_count": 46,
     "metadata": {},
     "output_type": "execute_result"
    }
   ],
   "source": [
    "s1.center(30,'t')"
   ]
  },
  {
   "cell_type": "code",
   "execution_count": 47,
   "id": "ad4592d7-e24d-4379-a27b-38fb45da9584",
   "metadata": {},
   "outputs": [
    {
     "data": {
      "text/plain": [
       "'pwskills'"
      ]
     },
     "execution_count": 47,
     "metadata": {},
     "output_type": "execute_result"
    }
   ],
   "source": [
    "s1.rstrip()"
   ]
  },
  {
   "cell_type": "code",
   "execution_count": 48,
   "id": "5eef4f9b-2c47-491d-914f-00c77dfb4ccd",
   "metadata": {},
   "outputs": [],
   "source": [
    "s5 = \"       pwskills     \""
   ]
  },
  {
   "cell_type": "code",
   "execution_count": 49,
   "id": "84bae6a3-0940-476c-a397-bf6e1d8be210",
   "metadata": {},
   "outputs": [
    {
     "data": {
      "text/plain": [
       "'       pwskills'"
      ]
     },
     "execution_count": 49,
     "metadata": {},
     "output_type": "execute_result"
    }
   ],
   "source": [
    "s5.rstrip()"
   ]
  },
  {
   "cell_type": "code",
   "execution_count": 50,
   "id": "b4d9700d-73e6-438c-bed0-d516e16d816e",
   "metadata": {},
   "outputs": [
    {
     "data": {
      "text/plain": [
       "'pwskills     '"
      ]
     },
     "execution_count": 50,
     "metadata": {},
     "output_type": "execute_result"
    }
   ],
   "source": [
    "s5.lstrip()"
   ]
  },
  {
   "cell_type": "code",
   "execution_count": 51,
   "id": "6b8557ae-ee53-4fb5-9182-ef81caefa5f8",
   "metadata": {},
   "outputs": [
    {
     "data": {
      "text/plain": [
       "'pwskills'"
      ]
     },
     "execution_count": 51,
     "metadata": {},
     "output_type": "execute_result"
    }
   ],
   "source": [
    "s5.strip()"
   ]
  },
  {
   "cell_type": "code",
   "execution_count": 52,
   "id": "f833bc9c-20a9-49fc-9d68-58c31990401c",
   "metadata": {},
   "outputs": [
    {
     "data": {
      "text/plain": [
       "'my name is poonam saini'"
      ]
     },
     "execution_count": 52,
     "metadata": {},
     "output_type": "execute_result"
    }
   ],
   "source": [
    "s2"
   ]
  },
  {
   "cell_type": "code",
   "execution_count": 53,
   "id": "97e0e7cc-81d4-4155-97b8-14ee80fb8ee2",
   "metadata": {},
   "outputs": [
    {
     "data": {
      "text/plain": [
       "'pwskills'"
      ]
     },
     "execution_count": 53,
     "metadata": {},
     "output_type": "execute_result"
    }
   ],
   "source": [
    "s1"
   ]
  },
  {
   "cell_type": "code",
   "execution_count": 54,
   "id": "363b0552-f5a7-4407-ace2-853dc6c755f1",
   "metadata": {},
   "outputs": [
    {
     "data": {
      "text/plain": [
       "True"
      ]
     },
     "execution_count": 54,
     "metadata": {},
     "output_type": "execute_result"
    }
   ],
   "source": [
    "s1.isalnum()"
   ]
  },
  {
   "cell_type": "code",
   "execution_count": 55,
   "id": "532d3308-12b3-40fa-95a8-fbe32840791a",
   "metadata": {},
   "outputs": [
    {
     "data": {
      "text/plain": [
       "False"
      ]
     },
     "execution_count": 55,
     "metadata": {},
     "output_type": "execute_result"
    }
   ],
   "source": [
    "s1.isnumeric()"
   ]
  },
  {
   "cell_type": "code",
   "execution_count": 56,
   "id": "a47cf56a-ddd0-48c3-a889-ad50a2a7c3ac",
   "metadata": {},
   "outputs": [
    {
     "data": {
      "text/plain": [
       "True"
      ]
     },
     "execution_count": 56,
     "metadata": {},
     "output_type": "execute_result"
    }
   ],
   "source": [
    "s1.islower()"
   ]
  },
  {
   "cell_type": "code",
   "execution_count": 59,
   "id": "39f8b8b7-d514-4c6b-97f8-915dd089cf88",
   "metadata": {},
   "outputs": [
    {
     "data": {
      "text/plain": [
       "'pwskills'"
      ]
     },
     "execution_count": 59,
     "metadata": {},
     "output_type": "execute_result"
    }
   ],
   "source": [
    "s1"
   ]
  },
  {
   "cell_type": "code",
   "execution_count": 60,
   "id": "6604acd4-12ac-4d3d-82d9-8e1dc0478058",
   "metadata": {},
   "outputs": [
    {
     "data": {
      "text/plain": [
       "'my name is poonam saini'"
      ]
     },
     "execution_count": 60,
     "metadata": {},
     "output_type": "execute_result"
    }
   ],
   "source": [
    "s2"
   ]
  },
  {
   "cell_type": "code",
   "execution_count": 68,
   "id": "f9c91713-9806-4497-aafe-0e53dbfa678a",
   "metadata": {},
   "outputs": [],
   "source": [
    "l3 = [1,2,3,4,5]"
   ]
  },
  {
   "cell_type": "code",
   "execution_count": 69,
   "id": "6a53ff6f-355a-4669-bf7d-4dec633d708b",
   "metadata": {},
   "outputs": [],
   "source": [
    "l3.append([1,2,3,])"
   ]
  },
  {
   "cell_type": "code",
   "execution_count": 70,
   "id": "f95d3f79-5eca-489a-8625-7283390d927c",
   "metadata": {},
   "outputs": [
    {
     "data": {
      "text/plain": [
       "[1, 2, 3, 4, 5, [1, 2, 3]]"
      ]
     },
     "execution_count": 70,
     "metadata": {},
     "output_type": "execute_result"
    }
   ],
   "source": [
    "l3"
   ]
  },
  {
   "cell_type": "code",
   "execution_count": 71,
   "id": "cea28a96-eed1-4caa-bb01-f3f25e302888",
   "metadata": {},
   "outputs": [],
   "source": [
    "l3.insert(1,[6,7,8,9])"
   ]
  },
  {
   "cell_type": "code",
   "execution_count": 72,
   "id": "c176bd14-f6a9-42ef-a941-302b39ea642e",
   "metadata": {},
   "outputs": [
    {
     "data": {
      "text/plain": [
       "[1, [6, 7, 8, 9], 2, 3, 4, 5, [1, 2, 3]]"
      ]
     },
     "execution_count": 72,
     "metadata": {},
     "output_type": "execute_result"
    }
   ],
   "source": [
    "l3"
   ]
  },
  {
   "cell_type": "code",
   "execution_count": 74,
   "id": "d8cba384-bec4-4fbf-b116-ba9e55951ada",
   "metadata": {},
   "outputs": [],
   "source": [
    "l3.extend([4,5,6])"
   ]
  },
  {
   "cell_type": "code",
   "execution_count": 75,
   "id": "2bc098f0-40fa-4836-9823-35aa085c7e9b",
   "metadata": {},
   "outputs": [
    {
     "data": {
      "text/plain": [
       "[1, [6, 7, 8, 9], 2, 3, 4, 5, [1, 2, 3], 4, 5, 6]"
      ]
     },
     "execution_count": 75,
     "metadata": {},
     "output_type": "execute_result"
    }
   ],
   "source": [
    "l3"
   ]
  },
  {
   "cell_type": "code",
   "execution_count": 76,
   "id": "b0e285b3-afe6-4427-af0e-6435db609a1b",
   "metadata": {},
   "outputs": [
    {
     "data": {
      "text/plain": [
       "6"
      ]
     },
     "execution_count": 76,
     "metadata": {},
     "output_type": "execute_result"
    }
   ],
   "source": [
    "l3.pop()"
   ]
  },
  {
   "cell_type": "code",
   "execution_count": 77,
   "id": "6a08e839-e530-4dcb-9873-67e66eded83a",
   "metadata": {},
   "outputs": [
    {
     "data": {
      "text/plain": [
       "[1, [6, 7, 8, 9], 2, 3, 4, 5, [1, 2, 3], 4, 5]"
      ]
     },
     "execution_count": 77,
     "metadata": {},
     "output_type": "execute_result"
    }
   ],
   "source": [
    "l3"
   ]
  },
  {
   "cell_type": "code",
   "execution_count": 78,
   "id": "898b24f3-0e0b-461b-bb5d-8f8c15f9537c",
   "metadata": {},
   "outputs": [
    {
     "data": {
      "text/plain": [
       "[6, 7, 8, 9]"
      ]
     },
     "execution_count": 78,
     "metadata": {},
     "output_type": "execute_result"
    }
   ],
   "source": [
    "l3.pop(1)"
   ]
  },
  {
   "cell_type": "code",
   "execution_count": 79,
   "id": "98f5bc21-d4db-44f6-ae16-5a2cddf03c4c",
   "metadata": {},
   "outputs": [
    {
     "data": {
      "text/plain": [
       "[1, 2, 3, 4, 5, [1, 2, 3], 4, 5]"
      ]
     },
     "execution_count": 79,
     "metadata": {},
     "output_type": "execute_result"
    }
   ],
   "source": [
    "l3"
   ]
  },
  {
   "cell_type": "code",
   "execution_count": 80,
   "id": "e1b3ad83-3ebd-4ad6-8c62-db709a0e2b9d",
   "metadata": {},
   "outputs": [],
   "source": [
    "del l3"
   ]
  },
  {
   "cell_type": "code",
   "execution_count": null,
   "id": "a6d0254c-7468-4978-b822-56c64b839814",
   "metadata": {},
   "outputs": [],
   "source": [
    "l3"
   ]
  },
  {
   "cell_type": "code",
   "execution_count": 88,
   "id": "40795c02-5384-4252-8374-8a468078fd9e",
   "metadata": {},
   "outputs": [],
   "source": [
    "l5 = ('a', 'b' , 'c', 'd')"
   ]
  },
  {
   "cell_type": "code",
   "execution_count": 90,
   "id": "d9097551-01e2-471c-8bff-927f9e768647",
   "metadata": {},
   "outputs": [],
   "source": [
    "l6 =[ \"poonam\", \"saini\", \"sds\"]"
   ]
  },
  {
   "cell_type": "code",
   "execution_count": 91,
   "id": "3280f781-0866-4850-aee5-249459634fdd",
   "metadata": {},
   "outputs": [],
   "source": [
    "l6.sort()"
   ]
  },
  {
   "cell_type": "code",
   "execution_count": 92,
   "id": "82b75bcf-b97a-42f3-9c9b-61370a813db8",
   "metadata": {},
   "outputs": [
    {
     "data": {
      "text/plain": [
       "['poonam', 'saini', 'sds']"
      ]
     },
     "execution_count": 92,
     "metadata": {},
     "output_type": "execute_result"
    }
   ],
   "source": [
    "l6"
   ]
  },
  {
   "cell_type": "code",
   "execution_count": null,
   "id": "7e56c254-247d-4b57-aa13-9388822c8af5",
   "metadata": {},
   "outputs": [],
   "source": []
  }
 ],
 "metadata": {
  "kernelspec": {
   "display_name": "Python 3 (ipykernel)",
   "language": "python",
   "name": "python3"
  },
  "language_info": {
   "codemirror_mode": {
    "name": "ipython",
    "version": 3
   },
   "file_extension": ".py",
   "mimetype": "text/x-python",
   "name": "python",
   "nbconvert_exporter": "python",
   "pygments_lexer": "ipython3",
   "version": "3.10.8"
  }
 },
 "nbformat": 4,
 "nbformat_minor": 5
}
